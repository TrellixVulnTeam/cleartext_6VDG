{
 "cells": [
  {
   "cell_type": "markdown",
   "metadata": {},
   "source": [
    "<h1><center>ClearText</center></h1>\n",
    "<center>Benjamin Wallace</center>\n",
    "<center>(2020)</center>"
   ]
  },
  {
   "cell_type": "markdown",
   "metadata": {},
   "source": [
    "# The WikiLarge and WikiSmall Datasets\n",
    "\n",
    "Encouraged by the incredible successes of natural language processing in the several years, we treat the text simplification problem as a machine learning problem. Precisely, we treat it as a neural machine translation problem. There are several datasets available for neural machine translation, but we will begin our work with the [WikiLarge and WikiSmall](https://github.com/XingxingZhang/dress) corpuses. Both corpuses, for the most part, consist of aligned text pairs automatically produced (using various similarity metrics) from corresponding articles on Wikipedia and the [Simple English Wikipedia](https://simple.wikipedia.org/).\n",
    "\n",
    "In order to run the following cells, the compressed file containing these datasets should be extracted into `../data/raw`."
   ]
  },
  {
   "cell_type": "code",
   "execution_count": 1,
   "metadata": {},
   "outputs": [],
   "source": [
    "import io\n",
    "import os\n",
    "\n",
    "import matplotlib.pyplot as plt\n",
    "import numpy as np\n",
    "import pandas as pd"
   ]
  },
  {
   "cell_type": "markdown",
   "metadata": {},
   "source": [
    "## WikiSmall"
   ]
  },
  {
   "cell_type": "code",
   "execution_count": 2,
   "metadata": {},
   "outputs": [],
   "source": [
    "def load_wiki(dataset):\n",
    "    wiki_dir = os.path.join('../data/raw/data-simplification', dataset)\n",
    "    prefix = 'PWKP_108016.tag.80.aner.ori' if dataset == 'wikismall' else 'wiki.full.aner.ori'\n",
    "    \n",
    "    data = []\n",
    "    for split in ['train', 'valid', 'test']:\n",
    "        for loc in ['src', 'dst']:\n",
    "            file_name = '.'.join([prefix, split, loc])\n",
    "            file_path = os.path.join(wiki_dir, file_name)\n",
    "            stream = io.open(file_path)\n",
    "            lines = stream.read().split('\\n')\n",
    "            data.append(lines)\n",
    "\n",
    "    src_train, dst_train, src_valid, dst_valid, src_test, dst_test = data\n",
    "    train = pd.DataFrame(zip(src_train, dst_train), columns=['source', 'target'])\n",
    "    valid = pd.DataFrame(zip(src_valid, dst_valid), columns=['source', 'target'])\n",
    "    test = pd.DataFrame(zip(src_test, dst_test), columns=['source', 'target'])\n",
    "\n",
    "    return train, valid, test"
   ]
  },
  {
   "cell_type": "code",
   "execution_count": 3,
   "metadata": {},
   "outputs": [
    {
     "name": "stdout",
     "output_type": "stream",
     "text": [
      "Training examples: 88838\n",
      "Validation examples: 206\n",
      "Test examples: 101\n"
     ]
    }
   ],
   "source": [
    "train, valid, test = load_wiki('wikismall')\n",
    "\n",
    "print(f'Training examples: {len(train)}')\n",
    "print(f'Validation examples: {len(valid)}')\n",
    "print(f'Test examples: {len(test)}')"
   ]
  },
  {
   "cell_type": "code",
   "execution_count": 4,
   "metadata": {},
   "outputs": [
    {
     "data": {
      "text/html": [
       "<div>\n",
       "<style scoped>\n",
       "    .dataframe tbody tr th:only-of-type {\n",
       "        vertical-align: middle;\n",
       "    }\n",
       "\n",
       "    .dataframe tbody tr th {\n",
       "        vertical-align: top;\n",
       "    }\n",
       "\n",
       "    .dataframe thead th {\n",
       "        text-align: right;\n",
       "    }\n",
       "</style>\n",
       "<table border=\"1\" class=\"dataframe\">\n",
       "  <thead>\n",
       "    <tr style=\"text-align: right;\">\n",
       "      <th></th>\n",
       "      <th>source</th>\n",
       "      <th>target</th>\n",
       "    </tr>\n",
       "  </thead>\n",
       "  <tbody>\n",
       "    <tr>\n",
       "      <th>0</th>\n",
       "      <td>Demographics</td>\n",
       "      <td>People</td>\n",
       "    </tr>\n",
       "    <tr>\n",
       "      <th>1</th>\n",
       "      <td>Pony Canyon Popfrenzy Popsicle Records Poptone...</td>\n",
       "      <td>Pony Canyon Popfrenzy Poptones Pork Recordings...</td>\n",
       "    </tr>\n",
       "    <tr>\n",
       "      <th>2</th>\n",
       "      <td>In 1199 , during the period of its highest spl...</td>\n",
       "      <td>Volterra .</td>\n",
       "    </tr>\n",
       "    <tr>\n",
       "      <th>3</th>\n",
       "      <td>The mills contributed to the growth of Minneap...</td>\n",
       "      <td>Minneapolis .</td>\n",
       "    </tr>\n",
       "    <tr>\n",
       "      <th>4</th>\n",
       "      <td>Apart from being a member of the Brazilian Aca...</td>\n",
       "      <td>Brazilian Academy of Sciences .</td>\n",
       "    </tr>\n",
       "    <tr>\n",
       "      <th>5</th>\n",
       "      <td>Nathan Fillion as Malcolm `` Mal '' Reynolds :...</td>\n",
       "      <td>Malcolm `` Mal '' Reynolds .</td>\n",
       "    </tr>\n",
       "    <tr>\n",
       "      <th>6</th>\n",
       "      <td>HostGIS HostGIS Linux is a Slackware based dis...</td>\n",
       "      <td>GoblinX HostGIS NimbleX .</td>\n",
       "    </tr>\n",
       "    <tr>\n",
       "      <th>7</th>\n",
       "      <td>Nawansher Urban is one of the 51 Union Council...</td>\n",
       "      <td>District Government Abbottabad .</td>\n",
       "    </tr>\n",
       "    <tr>\n",
       "      <th>8</th>\n",
       "      <td>Joan Mondale , wife of Walter Mondale .</td>\n",
       "      <td>Joan Mondale , Wife of Walter Mondale .</td>\n",
       "    </tr>\n",
       "    <tr>\n",
       "      <th>9</th>\n",
       "      <td>45 South Dakota SD S. Dak. .</td>\n",
       "      <td>Rhode Island R.I. South Carolina S.C. South Da...</td>\n",
       "    </tr>\n",
       "  </tbody>\n",
       "</table>\n",
       "</div>"
      ],
      "text/plain": [
       "                                              source  \\\n",
       "0                                       Demographics   \n",
       "1  Pony Canyon Popfrenzy Popsicle Records Poptone...   \n",
       "2  In 1199 , during the period of its highest spl...   \n",
       "3  The mills contributed to the growth of Minneap...   \n",
       "4  Apart from being a member of the Brazilian Aca...   \n",
       "5  Nathan Fillion as Malcolm `` Mal '' Reynolds :...   \n",
       "6  HostGIS HostGIS Linux is a Slackware based dis...   \n",
       "7  Nawansher Urban is one of the 51 Union Council...   \n",
       "8            Joan Mondale , wife of Walter Mondale .   \n",
       "9                       45 South Dakota SD S. Dak. .   \n",
       "\n",
       "                                              target  \n",
       "0                                             People  \n",
       "1  Pony Canyon Popfrenzy Poptones Pork Recordings...  \n",
       "2                                         Volterra .  \n",
       "3                                      Minneapolis .  \n",
       "4                    Brazilian Academy of Sciences .  \n",
       "5                       Malcolm `` Mal '' Reynolds .  \n",
       "6                          GoblinX HostGIS NimbleX .  \n",
       "7                   District Government Abbottabad .  \n",
       "8            Joan Mondale , Wife of Walter Mondale .  \n",
       "9  Rhode Island R.I. South Carolina S.C. South Da...  "
      ]
     },
     "execution_count": 4,
     "metadata": {},
     "output_type": "execute_result"
    }
   ],
   "source": [
    "train.head(10)"
   ]
  },
  {
   "cell_type": "code",
   "execution_count": 5,
   "metadata": {},
   "outputs": [
    {
     "data": {
      "text/html": [
       "<div>\n",
       "<style scoped>\n",
       "    .dataframe tbody tr th:only-of-type {\n",
       "        vertical-align: middle;\n",
       "    }\n",
       "\n",
       "    .dataframe tbody tr th {\n",
       "        vertical-align: top;\n",
       "    }\n",
       "\n",
       "    .dataframe thead th {\n",
       "        text-align: right;\n",
       "    }\n",
       "</style>\n",
       "<table border=\"1\" class=\"dataframe\">\n",
       "  <thead>\n",
       "    <tr style=\"text-align: right;\">\n",
       "      <th></th>\n",
       "      <th>source</th>\n",
       "      <th>target</th>\n",
       "    </tr>\n",
       "  </thead>\n",
       "  <tbody>\n",
       "    <tr>\n",
       "      <th>0</th>\n",
       "      <td>The program was transmitted by Onda Cero Radio...</td>\n",
       "      <td>Onda Cero .</td>\n",
       "    </tr>\n",
       "    <tr>\n",
       "      <th>1</th>\n",
       "      <td>Beyonce Sued For Copyright Infringement Track ...</td>\n",
       "      <td>Track listing Title !</td>\n",
       "    </tr>\n",
       "    <tr>\n",
       "      <th>2</th>\n",
       "      <td>Cast and characters Humans Shia LaBeouf stars ...</td>\n",
       "      <td>It stars Shia LaBeouf as Sam Witwicky .</td>\n",
       "    </tr>\n",
       "    <tr>\n",
       "      <th>3</th>\n",
       "      <td>A sequel , A Hat Full of Sky , was published i...</td>\n",
       "      <td>It was published in 2003 .</td>\n",
       "    </tr>\n",
       "    <tr>\n",
       "      <th>4</th>\n",
       "      <td>However , it is equally likely to decay at any...</td>\n",
       "      <td>However , it is radioactive .</td>\n",
       "    </tr>\n",
       "  </tbody>\n",
       "</table>\n",
       "</div>"
      ],
      "text/plain": [
       "                                              source  \\\n",
       "0  The program was transmitted by Onda Cero Radio...   \n",
       "1  Beyonce Sued For Copyright Infringement Track ...   \n",
       "2  Cast and characters Humans Shia LaBeouf stars ...   \n",
       "3  A sequel , A Hat Full of Sky , was published i...   \n",
       "4  However , it is equally likely to decay at any...   \n",
       "\n",
       "                                    target  \n",
       "0                              Onda Cero .  \n",
       "1                    Track listing Title !  \n",
       "2  It stars Shia LaBeouf as Sam Witwicky .  \n",
       "3               It was published in 2003 .  \n",
       "4            However , it is radioactive .  "
      ]
     },
     "execution_count": 5,
     "metadata": {},
     "output_type": "execute_result"
    }
   ],
   "source": [
    "valid.head()"
   ]
  },
  {
   "cell_type": "markdown",
   "metadata": {},
   "source": [
    "The dataset appears to be quite noisy, containing some nonsense examples such as the following."
   ]
  },
  {
   "cell_type": "code",
   "execution_count": 6,
   "metadata": {},
   "outputs": [
    {
     "name": "stdout",
     "output_type": "stream",
     "text": [
      "Pony Canyon Popfrenzy Popsicle Records Poptones Pork Recordings Portrait Records Posh Boy Records Positiva Records Positive Tone Positron !\n",
      "Pony Canyon Popfrenzy Poptones Pork Recordings Portrait Records Posh Boy Records Positiva Records Positive Tone Positron !\n"
     ]
    }
   ],
   "source": [
    "i = 1\n",
    "print(train.loc[i, 'source'])\n",
    "print(train.loc[i, 'target'])"
   ]
  },
  {
   "cell_type": "markdown",
   "metadata": {},
   "source": [
    "It also contains some low-quality simplifications."
   ]
  },
  {
   "cell_type": "code",
   "execution_count": 7,
   "metadata": {},
   "outputs": [
    {
     "name": "stdout",
     "output_type": "stream",
     "text": [
      "In 1199 , during the period of its highest splendour , the city made itself independent from the bishops of Volterra .\n",
      "Volterra .\n"
     ]
    }
   ],
   "source": [
    "i = 2\n",
    "print(train.loc[i, 'source'])\n",
    "print(train.loc[i, 'target'])"
   ]
  },
  {
   "cell_type": "markdown",
   "metadata": {},
   "source": [
    "The test set, on the other hand, comes from the [Turk corpus](https://github.com/cocoxu/simplification/). It was produced by humans on Amazon's [Mechanical Turk](https://www.mturk.com/)."
   ]
  },
  {
   "cell_type": "code",
   "execution_count": 8,
   "metadata": {},
   "outputs": [
    {
     "data": {
      "text/html": [
       "<div>\n",
       "<style scoped>\n",
       "    .dataframe tbody tr th:only-of-type {\n",
       "        vertical-align: middle;\n",
       "    }\n",
       "\n",
       "    .dataframe tbody tr th {\n",
       "        vertical-align: top;\n",
       "    }\n",
       "\n",
       "    .dataframe thead th {\n",
       "        text-align: right;\n",
       "    }\n",
       "</style>\n",
       "<table border=\"1\" class=\"dataframe\">\n",
       "  <thead>\n",
       "    <tr style=\"text-align: right;\">\n",
       "      <th></th>\n",
       "      <th>source</th>\n",
       "      <th>target</th>\n",
       "    </tr>\n",
       "  </thead>\n",
       "  <tbody>\n",
       "    <tr>\n",
       "      <th>0</th>\n",
       "      <td>Genetic engineering has expanded the genes ava...</td>\n",
       "      <td>New plants were created with genetic engineeri...</td>\n",
       "    </tr>\n",
       "    <tr>\n",
       "      <th>1</th>\n",
       "      <td>The name Jadgal applies specifically to groups...</td>\n",
       "      <td>The Jadgal people speak the Jadgali language .</td>\n",
       "    </tr>\n",
       "    <tr>\n",
       "      <th>2</th>\n",
       "      <td>Wikipedia is free content that anyone can edit...</td>\n",
       "      <td>Wikipedia is free content that anyone may chan...</td>\n",
       "    </tr>\n",
       "    <tr>\n",
       "      <th>3</th>\n",
       "      <td>The print collections are further supported by...</td>\n",
       "      <td>The print collections include large collection...</td>\n",
       "    </tr>\n",
       "    <tr>\n",
       "      <th>4</th>\n",
       "      <td>Restoration of independence In 1991 , the Sovi...</td>\n",
       "      <td>Armenia received its independence from the Sov...</td>\n",
       "    </tr>\n",
       "  </tbody>\n",
       "</table>\n",
       "</div>"
      ],
      "text/plain": [
       "                                              source  \\\n",
       "0  Genetic engineering has expanded the genes ava...   \n",
       "1  The name Jadgal applies specifically to groups...   \n",
       "2  Wikipedia is free content that anyone can edit...   \n",
       "3  The print collections are further supported by...   \n",
       "4  Restoration of independence In 1991 , the Sovi...   \n",
       "\n",
       "                                              target  \n",
       "0  New plants were created with genetic engineeri...  \n",
       "1     The Jadgal people speak the Jadgali language .  \n",
       "2  Wikipedia is free content that anyone may chan...  \n",
       "3  The print collections include large collection...  \n",
       "4  Armenia received its independence from the Sov...  "
      ]
     },
     "execution_count": 8,
     "metadata": {},
     "output_type": "execute_result"
    }
   ],
   "source": [
    "test.head()"
   ]
  },
  {
   "cell_type": "markdown",
   "metadata": {},
   "source": [
    "### Vocabulary"
   ]
  },
  {
   "cell_type": "markdown",
   "metadata": {},
   "source": [
    "Let's see how many words are in the dataset. In a production setting, we could use a sophisticated tokenizer like one of the ones provided by [Spacy](https://spacy.io/) but for now we'll just split on spaces."
   ]
  },
  {
   "cell_type": "code",
   "execution_count": 9,
   "metadata": {},
   "outputs": [],
   "source": [
    "def count_tokens(data):\n",
    "    counts = {}\n",
    "    for sentence in data:\n",
    "        tokens = (str(token) for token in sentence.split())\n",
    "        for token in tokens:\n",
    "            if token in counts:\n",
    "                counts[token] += 1\n",
    "            else:\n",
    "                counts[token] = 1\n",
    "    counts = [v for _, v in sorted(counts.items(), key=lambda item: item[1], reverse=True)]\n",
    "    return counts"
   ]
  },
  {
   "cell_type": "code",
   "execution_count": 10,
   "metadata": {},
   "outputs": [
    {
     "data": {
      "text/plain": [
       "113368"
      ]
     },
     "execution_count": 10,
     "metadata": {},
     "output_type": "execute_result"
    }
   ],
   "source": [
    "counts = count_tokens(train['source'])\n",
    "len(counts)"
   ]
  },
  {
   "cell_type": "markdown",
   "metadata": {},
   "source": [
    "We counted the number of occurences of each word in order to quantify the number of tokens needed to \"effectively cover\" the vocabulary. We can do this by plotting the percentage of the vocabulary covered against the truncated vocabulary size (where we only keep the most frequently occuring words)."
   ]
  },
  {
   "cell_type": "code",
   "execution_count": 11,
   "metadata": {},
   "outputs": [],
   "source": [
    "def plot_counts(counts):\n",
    "    total = sum(counts)\n",
    "    ratio = np.cumsum(counts) / total\n",
    "    plt.plot(ratio)"
   ]
  },
  {
   "cell_type": "code",
   "execution_count": 12,
   "metadata": {},
   "outputs": [
    {
     "data": {
      "image/png": "[encoded data removed]",
      "text/plain": [
       "<Figure size 432x288 with 1 Axes>"
      ]
     },
     "metadata": {
      "needs_background": "light"
     },
     "output_type": "display_data"
    }
   ],
   "source": [
    "plot_counts(counts)"
   ]
  },
  {
   "cell_type": "markdown",
   "metadata": {},
   "source": [
    "We see that we can cover most of the vocabulary with the top 10-20\\% most frequently used words."
   ]
  },
  {
   "cell_type": "markdown",
   "metadata": {},
   "source": [
    "## WikiLarge"
   ]
  },
  {
   "cell_type": "markdown",
   "metadata": {},
   "source": [
    "Let's repeat  the above investigation for the WikiLarge dataset."
   ]
  },
  {
   "cell_type": "code",
   "execution_count": 13,
   "metadata": {},
   "outputs": [
    {
     "data": {
      "text/plain": [
       "296403"
      ]
     },
     "execution_count": 13,
     "metadata": {},
     "output_type": "execute_result"
    }
   ],
   "source": [
    "train, valid, test = load_wiki('wikilarge')\n",
    "len(train)"
   ]
  },
  {
   "cell_type": "code",
   "execution_count": 14,
   "metadata": {},
   "outputs": [
    {
     "data": {
      "text/html": [
       "<div>\n",
       "<style scoped>\n",
       "    .dataframe tbody tr th:only-of-type {\n",
       "        vertical-align: middle;\n",
       "    }\n",
       "\n",
       "    .dataframe tbody tr th {\n",
       "        vertical-align: top;\n",
       "    }\n",
       "\n",
       "    .dataframe thead th {\n",
       "        text-align: right;\n",
       "    }\n",
       "</style>\n",
       "<table border=\"1\" class=\"dataframe\">\n",
       "  <thead>\n",
       "    <tr style=\"text-align: right;\">\n",
       "      <th></th>\n",
       "      <th>source</th>\n",
       "      <th>target</th>\n",
       "    </tr>\n",
       "  </thead>\n",
       "  <tbody>\n",
       "    <tr>\n",
       "      <th>0</th>\n",
       "      <td>There is manuscript evidence that Austen conti...</td>\n",
       "      <td>There is some proof that Austen continued to w...</td>\n",
       "    </tr>\n",
       "    <tr>\n",
       "      <th>1</th>\n",
       "      <td>In a remarkable comparative analysis , Mandaea...</td>\n",
       "      <td>Mandaean scholar Säve-Söderberg showed that Ma...</td>\n",
       "    </tr>\n",
       "    <tr>\n",
       "      <th>2</th>\n",
       "      <td>Before Persephone was released to Hermes , who...</td>\n",
       "      <td>When Demeter went to the Underworld to rescue ...</td>\n",
       "    </tr>\n",
       "    <tr>\n",
       "      <th>3</th>\n",
       "      <td>Cogeneration plants are commonly found in dist...</td>\n",
       "      <td>Cogeneration plants are commonly found in dist...</td>\n",
       "    </tr>\n",
       "    <tr>\n",
       "      <th>4</th>\n",
       "      <td>Geneva -LRB- , ; , ; , ; ; -RRB- is the second...</td>\n",
       "      <td>The city 's main newspaper is the Tribune de G...</td>\n",
       "    </tr>\n",
       "  </tbody>\n",
       "</table>\n",
       "</div>"
      ],
      "text/plain": [
       "                                              source  \\\n",
       "0  There is manuscript evidence that Austen conti...   \n",
       "1  In a remarkable comparative analysis , Mandaea...   \n",
       "2  Before Persephone was released to Hermes , who...   \n",
       "3  Cogeneration plants are commonly found in dist...   \n",
       "4  Geneva -LRB- , ; , ; , ; ; -RRB- is the second...   \n",
       "\n",
       "                                              target  \n",
       "0  There is some proof that Austen continued to w...  \n",
       "1  Mandaean scholar Säve-Söderberg showed that Ma...  \n",
       "2  When Demeter went to the Underworld to rescue ...  \n",
       "3  Cogeneration plants are commonly found in dist...  \n",
       "4  The city 's main newspaper is the Tribune de G...  "
      ]
     },
     "execution_count": 14,
     "metadata": {},
     "output_type": "execute_result"
    }
   ],
   "source": [
    "train.head()"
   ]
  },
  {
   "cell_type": "code",
   "execution_count": 15,
   "metadata": {},
   "outputs": [],
   "source": [
    "counts = count_tokens(train['source'])"
   ]
  },
  {
   "cell_type": "code",
   "execution_count": 16,
   "metadata": {},
   "outputs": [
    {
     "data": {
      "image/png": "[encoded data removed]",
      "text/plain": [
       "<Figure size 432x288 with 1 Axes>"
      ]
     },
     "metadata": {
      "needs_background": "light"
     },
     "output_type": "display_data"
    }
   ],
   "source": [
    "plot_counts(counts)"
   ]
  }
 ],
 "metadata": {
  "kernelspec": {
   "display_name": "Python 3",
   "language": "python",
   "name": "python3"
  },
  "language_info": {
   "codemirror_mode": {
    "name": "ipython",
    "version": 3
   },
   "file_extension": ".py",
   "mimetype": "text/x-python",
   "name": "python",
   "nbconvert_exporter": "python",
   "pygments_lexer": "ipython3",
   "version": "3.6.10"
  }
 },
 "nbformat": 4,
 "nbformat_minor": 4
}
